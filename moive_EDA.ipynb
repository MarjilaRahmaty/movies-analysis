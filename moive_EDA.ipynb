{
 "cells": [
  {
   "cell_type": "code",
   "execution_count": 10,
   "metadata": {},
   "outputs": [],
   "source": [
    "# importing libraries \n",
    "import pandas as pd \n",
    "import numpy as np"
   ]
  },
  {
   "cell_type": "code",
   "execution_count": 11,
   "metadata": {},
   "outputs": [],
   "source": [
    "# create data frame by using movies_2.csv file \n",
    "movie_df= pd.read_csv('movies_2.csv')"
   ]
  },
  {
   "cell_type": "code",
   "execution_count": 12,
   "metadata": {},
   "outputs": [
    {
     "data": {
      "text/plain": [
       "(616, 11)"
      ]
     },
     "execution_count": 12,
     "metadata": {},
     "output_type": "execute_result"
    }
   ],
   "source": [
    "movie_df.shape # returns us the number of rows and columns "
   ]
  },
  {
   "cell_type": "code",
   "execution_count": 13,
   "metadata": {},
   "outputs": [
    {
     "name": "stdout",
     "output_type": "stream",
     "text": [
      "<class 'pandas.core.frame.DataFrame'>\n",
      "RangeIndex: 616 entries, 0 to 615\n",
      "Data columns (total 11 columns):\n",
      " #   Column        Non-Null Count  Dtype  \n",
      "---  ------        --------------  -----  \n",
      " 0   MovieID       616 non-null    int64  \n",
      " 1   Title         615 non-null    object \n",
      " 2   MPAA Rating   615 non-null    object \n",
      " 3   Budget        615 non-null    float64\n",
      " 4   Gross         615 non-null    float64\n",
      " 5   Release Date  615 non-null    object \n",
      " 6   Genre         615 non-null    object \n",
      " 7   Runtime       615 non-null    float64\n",
      " 8   Rating        508 non-null    float64\n",
      " 9   Rating Count  508 non-null    float64\n",
      " 10  Summary       496 non-null    object \n",
      "dtypes: float64(5), int64(1), object(5)\n",
      "memory usage: 53.1+ KB\n"
     ]
    }
   ],
   "source": [
    "movie_df.info() # shows the number of rows and number of columns with information about every columns such as(datatype, non-null values, number of entries)"
   ]
  },
  {
   "cell_type": "code",
   "execution_count": 14,
   "metadata": {},
   "outputs": [
    {
     "data": {
      "text/plain": [
       "MovieID           0\n",
       "Title             1\n",
       "MPAA Rating       1\n",
       "Budget            1\n",
       "Gross             1\n",
       "Release Date      1\n",
       "Genre             1\n",
       "Runtime           1\n",
       "Rating          108\n",
       "Rating Count    108\n",
       "Summary         120\n",
       "dtype: int64"
      ]
     },
     "execution_count": 14,
     "metadata": {},
     "output_type": "execute_result"
    }
   ],
   "source": [
    "movie_df.isna().sum() # returns sum of the null value for every columns "
   ]
  },
  {
   "cell_type": "code",
   "execution_count": 15,
   "metadata": {},
   "outputs": [
    {
     "data": {
      "text/plain": [
       "0"
      ]
     },
     "execution_count": 15,
     "metadata": {},
     "output_type": "execute_result"
    }
   ],
   "source": [
    "movie_df.duplicated().sum() # returns us sum of the duplicated values "
   ]
  },
  {
   "cell_type": "code",
   "execution_count": 16,
   "metadata": {},
   "outputs": [
    {
     "data": {
      "text/plain": [
       "True"
      ]
     },
     "execution_count": 16,
     "metadata": {},
     "output_type": "execute_result"
    }
   ],
   "source": [
    "movie_df['MovieID'].is_unique # returns True if movieID column has unique values"
   ]
  },
  {
   "cell_type": "code",
   "execution_count": 17,
   "metadata": {},
   "outputs": [
    {
     "data": {
      "text/html": [
       "<div>\n",
       "<style scoped>\n",
       "    .dataframe tbody tr th:only-of-type {\n",
       "        vertical-align: middle;\n",
       "    }\n",
       "\n",
       "    .dataframe tbody tr th {\n",
       "        vertical-align: top;\n",
       "    }\n",
       "\n",
       "    .dataframe thead th {\n",
       "        text-align: right;\n",
       "    }\n",
       "</style>\n",
       "<table border=\"1\" class=\"dataframe\">\n",
       "  <thead>\n",
       "    <tr style=\"text-align: right;\">\n",
       "      <th></th>\n",
       "      <th>Title</th>\n",
       "      <th>MPAA Rating</th>\n",
       "      <th>Budget</th>\n",
       "      <th>Gross</th>\n",
       "      <th>Release Date</th>\n",
       "      <th>Genre</th>\n",
       "      <th>Runtime</th>\n",
       "      <th>Rating</th>\n",
       "      <th>Rating Count</th>\n",
       "      <th>Summary</th>\n",
       "    </tr>\n",
       "    <tr>\n",
       "      <th>MovieID</th>\n",
       "      <th></th>\n",
       "      <th></th>\n",
       "      <th></th>\n",
       "      <th></th>\n",
       "      <th></th>\n",
       "      <th></th>\n",
       "      <th></th>\n",
       "      <th></th>\n",
       "      <th></th>\n",
       "      <th></th>\n",
       "    </tr>\n",
       "  </thead>\n",
       "  <tbody>\n",
       "    <tr>\n",
       "      <th>1</th>\n",
       "      <td>Look Who's Talking</td>\n",
       "      <td>PG-13</td>\n",
       "      <td>7500000.0</td>\n",
       "      <td>296000000.0</td>\n",
       "      <td>1989-10-12</td>\n",
       "      <td>Romance</td>\n",
       "      <td>93.0</td>\n",
       "      <td>5.9</td>\n",
       "      <td>73638.0</td>\n",
       "      <td>After a single, career-minded woman is left on...</td>\n",
       "    </tr>\n",
       "    <tr>\n",
       "      <th>2</th>\n",
       "      <td>Driving Miss Daisy</td>\n",
       "      <td>PG</td>\n",
       "      <td>7500000.0</td>\n",
       "      <td>145793296.0</td>\n",
       "      <td>1989-12-13</td>\n",
       "      <td>Comedy</td>\n",
       "      <td>99.0</td>\n",
       "      <td>7.4</td>\n",
       "      <td>91075.0</td>\n",
       "      <td>An old Jewish woman and her African-American c...</td>\n",
       "    </tr>\n",
       "  </tbody>\n",
       "</table>\n",
       "</div>"
      ],
      "text/plain": [
       "                      Title MPAA Rating     Budget        Gross Release Date  \\\n",
       "MovieID                                                                        \n",
       "1        Look Who's Talking       PG-13  7500000.0  296000000.0   1989-10-12   \n",
       "2        Driving Miss Daisy          PG  7500000.0  145793296.0   1989-12-13   \n",
       "\n",
       "           Genre  Runtime  Rating  Rating Count  \\\n",
       "MovieID                                           \n",
       "1        Romance     93.0     5.9       73638.0   \n",
       "2         Comedy     99.0     7.4       91075.0   \n",
       "\n",
       "                                                   Summary  \n",
       "MovieID                                                     \n",
       "1        After a single, career-minded woman is left on...  \n",
       "2        An old Jewish woman and her African-American c...  "
      ]
     },
     "execution_count": 17,
     "metadata": {},
     "output_type": "execute_result"
    }
   ],
   "source": [
    "movie_df = movie_df.set_index('MovieID') # set movieID  as dataframe index\n",
    "movie_df.head(2) # returns only two rows \n"
   ]
  },
  {
   "cell_type": "code",
   "execution_count": 18,
   "metadata": {},
   "outputs": [],
   "source": [
    "# movie_df = movie_df.fillna(0) --- one way to fill nan values in a dataframe \n",
    "#movie_df['Budget'].replace([np.nan], movie_df['Budget'].mean(), inplace=True) # this method replace nan value with mean of specific column\n",
    "#movie_df['Budget'].isna().sum()"
   ]
  },
  {
   "cell_type": "code",
   "execution_count": 19,
   "metadata": {},
   "outputs": [],
   "source": [
    "#movie_df['Rating'].replace([np.nan],movie_df['Rating'].mode(), inplace= True) # replace nan value with mode value in a specific column\n",
    "#movie_df['Rating'].isna().sum()"
   ]
  },
  {
   "cell_type": "code",
   "execution_count": 20,
   "metadata": {},
   "outputs": [],
   "source": [
    "#movie_df['Rating Count'].replace([np.nan],movie_df['Rating Count'].median(), inplace= True)\n",
    "#movie_df['Rating Count'].isna().sum()"
   ]
  },
  {
   "cell_type": "code",
   "execution_count": 21,
   "metadata": {},
   "outputs": [
    {
     "data": {
      "text/html": [
       "<div>\n",
       "<style scoped>\n",
       "    .dataframe tbody tr th:only-of-type {\n",
       "        vertical-align: middle;\n",
       "    }\n",
       "\n",
       "    .dataframe tbody tr th {\n",
       "        vertical-align: top;\n",
       "    }\n",
       "\n",
       "    .dataframe thead th {\n",
       "        text-align: right;\n",
       "    }\n",
       "</style>\n",
       "<table border=\"1\" class=\"dataframe\">\n",
       "  <thead>\n",
       "    <tr style=\"text-align: right;\">\n",
       "      <th></th>\n",
       "      <th>Title</th>\n",
       "      <th>MPAA Rating</th>\n",
       "      <th>Budget</th>\n",
       "      <th>Gross</th>\n",
       "      <th>Release Date</th>\n",
       "      <th>Genre</th>\n",
       "      <th>Runtime</th>\n",
       "      <th>Rating</th>\n",
       "      <th>Rating Count</th>\n",
       "      <th>Summary</th>\n",
       "    </tr>\n",
       "    <tr>\n",
       "      <th>MovieID</th>\n",
       "      <th></th>\n",
       "      <th></th>\n",
       "      <th></th>\n",
       "      <th></th>\n",
       "      <th></th>\n",
       "      <th></th>\n",
       "      <th></th>\n",
       "      <th></th>\n",
       "      <th></th>\n",
       "      <th></th>\n",
       "    </tr>\n",
       "  </thead>\n",
       "  <tbody>\n",
       "    <tr>\n",
       "      <th>1</th>\n",
       "      <td>Look Who's Talking</td>\n",
       "      <td>PG-13</td>\n",
       "      <td>7500000.0</td>\n",
       "      <td>2.960000e+08</td>\n",
       "      <td>1989-10-12</td>\n",
       "      <td>Romance</td>\n",
       "      <td>93.0</td>\n",
       "      <td>5.9</td>\n",
       "      <td>73638.0</td>\n",
       "      <td>After a single, career-minded woman is left on...</td>\n",
       "    </tr>\n",
       "    <tr>\n",
       "      <th>2</th>\n",
       "      <td>Driving Miss Daisy</td>\n",
       "      <td>PG</td>\n",
       "      <td>7500000.0</td>\n",
       "      <td>1.457933e+08</td>\n",
       "      <td>1989-12-13</td>\n",
       "      <td>Comedy</td>\n",
       "      <td>99.0</td>\n",
       "      <td>7.4</td>\n",
       "      <td>91075.0</td>\n",
       "      <td>An old Jewish woman and her African-American c...</td>\n",
       "    </tr>\n",
       "    <tr>\n",
       "      <th>3</th>\n",
       "      <td>Turner &amp; Hooch</td>\n",
       "      <td>PG</td>\n",
       "      <td>13000000.0</td>\n",
       "      <td>7.107992e+07</td>\n",
       "      <td>1989-07-28</td>\n",
       "      <td>Crime</td>\n",
       "      <td>100.0</td>\n",
       "      <td>7.2</td>\n",
       "      <td>91415.0</td>\n",
       "      <td>Det. Scott Turner (Tom Hanks) is an uptight, b...</td>\n",
       "    </tr>\n",
       "    <tr>\n",
       "      <th>4</th>\n",
       "      <td>Born on the Fourth of July</td>\n",
       "      <td>R</td>\n",
       "      <td>14000000.0</td>\n",
       "      <td>1.610017e+08</td>\n",
       "      <td>1989-12-20</td>\n",
       "      <td>War</td>\n",
       "      <td>145.0</td>\n",
       "      <td>7.2</td>\n",
       "      <td>91415.0</td>\n",
       "      <td>The biography of Ron Kovic. Paralyzed in the V...</td>\n",
       "    </tr>\n",
       "    <tr>\n",
       "      <th>5</th>\n",
       "      <td>Field of Dreams</td>\n",
       "      <td>PG</td>\n",
       "      <td>15000000.0</td>\n",
       "      <td>8.443162e+07</td>\n",
       "      <td>1989-04-21</td>\n",
       "      <td>Drama</td>\n",
       "      <td>107.0</td>\n",
       "      <td>7.5</td>\n",
       "      <td>101702.0</td>\n",
       "      <td>An Iowa corn farmer, hearing voices, interpret...</td>\n",
       "    </tr>\n",
       "    <tr>\n",
       "      <th>...</th>\n",
       "      <td>...</td>\n",
       "      <td>...</td>\n",
       "      <td>...</td>\n",
       "      <td>...</td>\n",
       "      <td>...</td>\n",
       "      <td>...</td>\n",
       "      <td>...</td>\n",
       "      <td>...</td>\n",
       "      <td>...</td>\n",
       "      <td>...</td>\n",
       "    </tr>\n",
       "    <tr>\n",
       "      <th>612</th>\n",
       "      <td>Toy Story 4</td>\n",
       "      <td>G</td>\n",
       "      <td>200000000.0</td>\n",
       "      <td>1.062000e+09</td>\n",
       "      <td>2019-06-11</td>\n",
       "      <td>Animation</td>\n",
       "      <td>100.0</td>\n",
       "      <td>0.0</td>\n",
       "      <td>0.0</td>\n",
       "      <td>0</td>\n",
       "    </tr>\n",
       "    <tr>\n",
       "      <th>613</th>\n",
       "      <td>Fast &amp; Furious Presents: Hobbs &amp; Shaw</td>\n",
       "      <td>PG-13</td>\n",
       "      <td>200000000.0</td>\n",
       "      <td>7.594000e+08</td>\n",
       "      <td>2019-07-13</td>\n",
       "      <td>Thriller</td>\n",
       "      <td>136.0</td>\n",
       "      <td>0.0</td>\n",
       "      <td>0.0</td>\n",
       "      <td>0</td>\n",
       "    </tr>\n",
       "    <tr>\n",
       "      <th>614</th>\n",
       "      <td>The Lion King</td>\n",
       "      <td>PG</td>\n",
       "      <td>250000000.0</td>\n",
       "      <td>1.632000e+09</td>\n",
       "      <td>2019-07-09</td>\n",
       "      <td>Drama</td>\n",
       "      <td>118.0</td>\n",
       "      <td>0.0</td>\n",
       "      <td>0.0</td>\n",
       "      <td>0</td>\n",
       "    </tr>\n",
       "    <tr>\n",
       "      <th>615</th>\n",
       "      <td>Avengers: Endgame</td>\n",
       "      <td>PG-13</td>\n",
       "      <td>356000000.0</td>\n",
       "      <td>2.796000e+09</td>\n",
       "      <td>2019-04-22</td>\n",
       "      <td>Action</td>\n",
       "      <td>181.0</td>\n",
       "      <td>0.0</td>\n",
       "      <td>0.0</td>\n",
       "      <td>0</td>\n",
       "    </tr>\n",
       "    <tr>\n",
       "      <th>0</th>\n",
       "      <td>0</td>\n",
       "      <td>0</td>\n",
       "      <td>0.0</td>\n",
       "      <td>0.000000e+00</td>\n",
       "      <td>0</td>\n",
       "      <td>0</td>\n",
       "      <td>0.0</td>\n",
       "      <td>0.0</td>\n",
       "      <td>0.0</td>\n",
       "      <td>0</td>\n",
       "    </tr>\n",
       "  </tbody>\n",
       "</table>\n",
       "<p>616 rows × 10 columns</p>\n",
       "</div>"
      ],
      "text/plain": [
       "                                         Title MPAA Rating       Budget  \\\n",
       "MovieID                                                                   \n",
       "1                           Look Who's Talking       PG-13    7500000.0   \n",
       "2                           Driving Miss Daisy          PG    7500000.0   \n",
       "3                               Turner & Hooch          PG   13000000.0   \n",
       "4                   Born on the Fourth of July           R   14000000.0   \n",
       "5                              Field of Dreams          PG   15000000.0   \n",
       "...                                        ...         ...          ...   \n",
       "612                                Toy Story 4           G  200000000.0   \n",
       "613      Fast & Furious Presents: Hobbs & Shaw       PG-13  200000000.0   \n",
       "614                              The Lion King          PG  250000000.0   \n",
       "615                          Avengers: Endgame       PG-13  356000000.0   \n",
       "0                                            0           0          0.0   \n",
       "\n",
       "                Gross Release Date      Genre  Runtime  Rating  Rating Count  \\\n",
       "MovieID                                                                        \n",
       "1        2.960000e+08   1989-10-12    Romance     93.0     5.9       73638.0   \n",
       "2        1.457933e+08   1989-12-13     Comedy     99.0     7.4       91075.0   \n",
       "3        7.107992e+07   1989-07-28      Crime    100.0     7.2       91415.0   \n",
       "4        1.610017e+08   1989-12-20        War    145.0     7.2       91415.0   \n",
       "5        8.443162e+07   1989-04-21      Drama    107.0     7.5      101702.0   \n",
       "...               ...          ...        ...      ...     ...           ...   \n",
       "612      1.062000e+09   2019-06-11  Animation    100.0     0.0           0.0   \n",
       "613      7.594000e+08   2019-07-13   Thriller    136.0     0.0           0.0   \n",
       "614      1.632000e+09   2019-07-09      Drama    118.0     0.0           0.0   \n",
       "615      2.796000e+09   2019-04-22     Action    181.0     0.0           0.0   \n",
       "0        0.000000e+00            0          0      0.0     0.0           0.0   \n",
       "\n",
       "                                                   Summary  \n",
       "MovieID                                                     \n",
       "1        After a single, career-minded woman is left on...  \n",
       "2        An old Jewish woman and her African-American c...  \n",
       "3        Det. Scott Turner (Tom Hanks) is an uptight, b...  \n",
       "4        The biography of Ron Kovic. Paralyzed in the V...  \n",
       "5        An Iowa corn farmer, hearing voices, interpret...  \n",
       "...                                                    ...  \n",
       "612                                                      0  \n",
       "613                                                      0  \n",
       "614                                                      0  \n",
       "615                                                      0  \n",
       "0                                                        0  \n",
       "\n",
       "[616 rows x 10 columns]"
      ]
     },
     "execution_count": 21,
     "metadata": {},
     "output_type": "execute_result"
    }
   ],
   "source": [
    "# Fill Missing Data With interpolate()\n",
    "#The interpolate() function uses existing values in the DataFrame to estimate the missing rows. Setting the inplace keyword to True alters the DataFrame permanently.\n",
    "#movie_df.interpolate(method ='linear', limit_direction ='backward', inplace=True)\n",
    "#movie_df.interpolate(method='linear', limit_direction='forward', inplace= True)\n",
    "#movie_df['Rating Count'].interpolate()\n",
    "movie_df = movie_df.fillna(0)\n",
    "movie_df"
   ]
  }
 ],
 "metadata": {
  "kernelspec": {
   "display_name": "Python 3.9.13 ('base')",
   "language": "python",
   "name": "python3"
  },
  "language_info": {
   "codemirror_mode": {
    "name": "ipython",
    "version": 3
   },
   "file_extension": ".py",
   "mimetype": "text/x-python",
   "name": "python",
   "nbconvert_exporter": "python",
   "pygments_lexer": "ipython3",
   "version": "3.9.13"
  },
  "orig_nbformat": 4,
  "vscode": {
   "interpreter": {
    "hash": "8b316781a0e2ef706feadbdb9dae99b570d956be3273acd9d00cff9b028f9639"
   }
  }
 },
 "nbformat": 4,
 "nbformat_minor": 2
}
